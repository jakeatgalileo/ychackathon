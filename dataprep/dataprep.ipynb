{
 "cells": [
  {
   "cell_type": "code",
   "execution_count": null,
   "metadata": {},
   "outputs": [],
   "source": [
    "# Sample the dataset (stratified)\n",
    "\n",
    "# Perturb to create dirty data\n",
    "\n",
    "# stratified sample\n",
    "\n",
    "# Import necessary libraries\n",
    "import pandas as pd\n",
    "from sklearn.model_selection import train_test_split\n",
    "\n",
    "# Load the dataset\n",
    "# Assuming your dataset is in CSV format - adjust path as needed\n",
    "df = pd.read_csv('path_to_your_yelp_dataset.csv')\n",
    "\n",
    "# Create a stratified sample\n",
    "# Let's say we want 10% of the data while maintaining the distribution of stars\n",
    "sample_size = 0.1  # adjust this value based on your needs\n",
    "\n",
    "# Perform stratified sampling\n",
    "sampled_df, _ = train_test_split(\n",
    "    df,\n",
    "    train_size=sample_size,\n",
    "    stratify=df['stars'],\n",
    "    random_state=42  # for reproducibility\n",
    ")\n",
    "\n",
    "# Verify the distribution\n",
    "print(\"Original distribution of stars:\")\n",
    "print(df['stars'].value_counts(normalize=True))\n",
    "print(\"\\nSampled distribution of stars:\")\n",
    "print(sampled_df['stars'].value_counts(normalize=True))\n",
    "\n",
    "# Save the sampled dataset\n",
    "sampled_df.to_csv('yelp_reviews_sampled.csv', index=False)\n"
   ]
  }
 ],
 "metadata": {
  "kernelspec": {
   "display_name": "ychack",
   "language": "python",
   "name": "python3"
  },
  "language_info": {
   "codemirror_mode": {
    "name": "ipython",
    "version": 3
   },
   "file_extension": ".py",
   "mimetype": "text/x-python",
   "name": "python",
   "nbconvert_exporter": "python",
   "pygments_lexer": "ipython3",
   "version": "3.12.9"
  }
 },
 "nbformat": 4,
 "nbformat_minor": 2
}
